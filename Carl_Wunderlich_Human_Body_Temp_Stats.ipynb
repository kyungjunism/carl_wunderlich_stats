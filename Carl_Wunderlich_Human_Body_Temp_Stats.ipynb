{
 "cells": [
  {
   "cell_type": "markdown",
   "metadata": {},
   "source": [
    "# What is the True Normal Human Body Temperature? \n",
    "\n",
    "#### Background\n",
    "\n",
    "The mean normal body temperature was held to be 37$^{\\circ}$C or 98.6$^{\\circ}$F for more than 120 years since it was first conceptualized and reported by Carl Wunderlich in a famous 1868 book. But, is this value statistically correct?"
   ]
  },
  {
   "cell_type": "markdown",
   "metadata": {},
   "source": [
    "<h3>Exercises</h3>\n",
    "\n",
    "<p>In this exercise, you will analyze a dataset of human body temperatures and employ the concepts of hypothesis testing, confidence intervals, and statistical significance.</p>\n",
    "\n",
    "<ol>\n",
    "<li>  Is the distribution of body temperatures normal? \n",
    "    <ul>\n",
    "    <li> Although this is not a requirement for CLT to hold (read CLT carefully), it gives us some peace of mind that the population may also be normally distributed if we assume that this sample is representative of the population.\n",
    "    </ul>\n",
    "<li>  Is the sample size large? Are the observations independent?\n",
    "    <ul>\n",
    "    <li> Remember that this is a condition for the CLT, and hence the statistical tests we are using, to apply.\n",
    "    </ul>\n",
    "<li>  Is the true population mean really 98.6 degrees F?\n",
    "    <ul>\n",
    "    <li> Would you use a one-sample or two-sample test? Why?\n",
    "    <li> In this situation, is it appropriate to use the $t$ or $z$ statistic? \n",
    "    <li> Now try using the other test. How is the result be different? Why?\n",
    "    </ul>\n",
    "<li>  Draw a small sample of size 10 from the data and repeat both tests. \n",
    "    <ul>\n",
    "    <li> Which one is the correct one to use? \n",
    "    <li> What do you notice? What does this tell you about the difference in application of the $t$ and $z$ statistic?\n",
    "    </ul>\n",
    "<li>  At what temperature should we consider someone's temperature to be \"abnormal\"?\n",
    "    <ul>\n",
    "    <li> Start by computing the margin of error and confidence interval.\n",
    "    </ul>\n",
    "<li>  Is there a significant difference between males and females in normal temperature?\n",
    "    <ul>\n",
    "    <li> What test did you use and why?\n",
    "    <li> Write a story with your conclusion in the context of the original problem.\n",
    "    </ul>\n",
    "</ol>\n",
    "\n",
    "#### Resources\n",
    "\n",
    "+ Information and data sources: http://www.amstat.org/publications/jse/datasets/normtemp.txt, http://www.amstat.org/publications/jse/jse_data_archive.htm\n",
    "\n",
    "****"
   ]
  },
  {
   "cell_type": "code",
   "execution_count": 72,
   "metadata": {},
   "outputs": [],
   "source": [
    "import pandas as pd\n",
    "import pylab\n",
    "import math\n",
    "import numpy as np\n",
    "import matplotlib.pyplot as plt\n",
    "%matplotlib inline\n",
    "import numpy as np\n",
    "from scipy.stats import norm\n",
    "import scipy.stats\n",
    "\n",
    "df = pd.read_csv('data/human_body_temperature.csv')"
   ]
  },
  {
   "cell_type": "code",
   "execution_count": 73,
   "metadata": {},
   "outputs": [
    {
     "data": {
      "text/html": [
       "<div>\n",
       "<style>\n",
       "    .dataframe thead tr:only-child th {\n",
       "        text-align: right;\n",
       "    }\n",
       "\n",
       "    .dataframe thead th {\n",
       "        text-align: left;\n",
       "    }\n",
       "\n",
       "    .dataframe tbody tr th {\n",
       "        vertical-align: top;\n",
       "    }\n",
       "</style>\n",
       "<table border=\"1\" class=\"dataframe\">\n",
       "  <thead>\n",
       "    <tr style=\"text-align: right;\">\n",
       "      <th></th>\n",
       "      <th>temperature</th>\n",
       "      <th>heart_rate</th>\n",
       "    </tr>\n",
       "  </thead>\n",
       "  <tbody>\n",
       "    <tr>\n",
       "      <th>count</th>\n",
       "      <td>130.000000</td>\n",
       "      <td>130.000000</td>\n",
       "    </tr>\n",
       "    <tr>\n",
       "      <th>mean</th>\n",
       "      <td>98.249231</td>\n",
       "      <td>73.761538</td>\n",
       "    </tr>\n",
       "    <tr>\n",
       "      <th>std</th>\n",
       "      <td>0.733183</td>\n",
       "      <td>7.062077</td>\n",
       "    </tr>\n",
       "    <tr>\n",
       "      <th>min</th>\n",
       "      <td>96.300000</td>\n",
       "      <td>57.000000</td>\n",
       "    </tr>\n",
       "    <tr>\n",
       "      <th>25%</th>\n",
       "      <td>97.800000</td>\n",
       "      <td>69.000000</td>\n",
       "    </tr>\n",
       "    <tr>\n",
       "      <th>50%</th>\n",
       "      <td>98.300000</td>\n",
       "      <td>74.000000</td>\n",
       "    </tr>\n",
       "    <tr>\n",
       "      <th>75%</th>\n",
       "      <td>98.700000</td>\n",
       "      <td>79.000000</td>\n",
       "    </tr>\n",
       "    <tr>\n",
       "      <th>max</th>\n",
       "      <td>100.800000</td>\n",
       "      <td>89.000000</td>\n",
       "    </tr>\n",
       "  </tbody>\n",
       "</table>\n",
       "</div>"
      ],
      "text/plain": [
       "       temperature  heart_rate\n",
       "count   130.000000  130.000000\n",
       "mean     98.249231   73.761538\n",
       "std       0.733183    7.062077\n",
       "min      96.300000   57.000000\n",
       "25%      97.800000   69.000000\n",
       "50%      98.300000   74.000000\n",
       "75%      98.700000   79.000000\n",
       "max     100.800000   89.000000"
      ]
     },
     "execution_count": 73,
     "metadata": {},
     "output_type": "execute_result"
    }
   ],
   "source": [
    "df.describe()\n",
    "#count value, easily obtained with len(df), is 130 (which means 130 total observations for this project)"
   ]
  },
  {
   "cell_type": "code",
   "execution_count": 74,
   "metadata": {},
   "outputs": [
    {
     "data": {
      "text/html": [
       "<div>\n",
       "<style>\n",
       "    .dataframe thead tr:only-child th {\n",
       "        text-align: right;\n",
       "    }\n",
       "\n",
       "    .dataframe thead th {\n",
       "        text-align: left;\n",
       "    }\n",
       "\n",
       "    .dataframe tbody tr th {\n",
       "        vertical-align: top;\n",
       "    }\n",
       "</style>\n",
       "<table border=\"1\" class=\"dataframe\">\n",
       "  <thead>\n",
       "    <tr style=\"text-align: right;\">\n",
       "      <th></th>\n",
       "      <th>temperature</th>\n",
       "      <th>gender</th>\n",
       "      <th>heart_rate</th>\n",
       "    </tr>\n",
       "  </thead>\n",
       "  <tbody>\n",
       "    <tr>\n",
       "      <th>0</th>\n",
       "      <td>99.3</td>\n",
       "      <td>F</td>\n",
       "      <td>68.0</td>\n",
       "    </tr>\n",
       "    <tr>\n",
       "      <th>1</th>\n",
       "      <td>98.4</td>\n",
       "      <td>F</td>\n",
       "      <td>81.0</td>\n",
       "    </tr>\n",
       "    <tr>\n",
       "      <th>2</th>\n",
       "      <td>97.8</td>\n",
       "      <td>M</td>\n",
       "      <td>73.0</td>\n",
       "    </tr>\n",
       "    <tr>\n",
       "      <th>3</th>\n",
       "      <td>99.2</td>\n",
       "      <td>F</td>\n",
       "      <td>66.0</td>\n",
       "    </tr>\n",
       "    <tr>\n",
       "      <th>4</th>\n",
       "      <td>98.0</td>\n",
       "      <td>F</td>\n",
       "      <td>73.0</td>\n",
       "    </tr>\n",
       "  </tbody>\n",
       "</table>\n",
       "</div>"
      ],
      "text/plain": [
       "   temperature gender  heart_rate\n",
       "0         99.3      F        68.0\n",
       "1         98.4      F        81.0\n",
       "2         97.8      M        73.0\n",
       "3         99.2      F        66.0\n",
       "4         98.0      F        73.0"
      ]
     },
     "execution_count": 74,
     "metadata": {},
     "output_type": "execute_result"
    }
   ],
   "source": [
    "df.head()"
   ]
  },
  {
   "cell_type": "markdown",
   "metadata": {},
   "source": [
    "## 1. Is the distribution of body temperatures normal?\n",
    "Although this is not a requirement for CLT to hold (read CLT carefully), it gives us some peace of mind that the population may also be normally distributed if we assume that this sample is representative of the population.\n",
    "\n",
    "[Central Limit Theorem](https://en.wikipedia.org/wiki/Central_limit_theorem)"
   ]
  },
  {
   "cell_type": "markdown",
   "metadata": {},
   "source": [
    "#### We'll observe the data through a histogram to see if the data looks like a normal distribution. We will need to set up mu (mean) and std(standard deviation"
   ]
  },
  {
   "cell_type": "code",
   "execution_count": 75,
   "metadata": {},
   "outputs": [
    {
     "data": {
      "image/png": "[encoded data removed]",
      "text/plain": [
       "<matplotlib.figure.Figure at 0x208a7762048>"
      ]
     },
     "metadata": {},
     "output_type": "display_data"
    },
    {
     "name": "stdout",
     "output_type": "stream",
     "text": [
      "Average (Mu): 98.2492307692 / Standard Deviation: 0.730357778905\n"
     ]
    }
   ],
   "source": [
    "observed_temperatures = df['temperature'].sort_values()\n",
    "bin_val = np.arange(start= observed_temperatures.min(), stop= observed_temperatures.max(), step = .05)\n",
    "mu, std = np.mean(observed_temperatures), np.std(observed_temperatures)\n",
    "\n",
    "#p will be the theoretical normal distribution calculated from the mean and standard deviation taken from the temperatures dataset.\n",
    "p = norm.pdf(observed_temperatures, mu, std)\n",
    "\n",
    "#plots\n",
    "_ = plt.hist(observed_temperatures,bins = bin_val, normed=True, stacked=True)\n",
    "_ = plt.plot(observed_temperatures, p, color = 'red')\n",
    "_ = plt.xticks(np.arange(95.75,101.25,0.25),rotation=90)\n",
    "_ = plt.xlabel('Human Body Temperature Distributions')\n",
    "_ = plt.xlabel('human body temperature')\n",
    "plt.show()\n",
    "\n",
    "\n",
    "print('Average (Mu): '+ str(mu) + ' / ' 'Standard Deviation: '+str(std))"
   ]
  },
  {
   "cell_type": "markdown",
   "metadata": {},
   "source": [
    "#### Looks normally distributed, but let us check and see if it is truly a normal distribution by using normality tests from scipy.stats to see if it falls within a normal distribution."
   ]
  },
  {
   "cell_type": "code",
   "execution_count": 76,
   "metadata": {
    "scrolled": false
   },
   "outputs": [
    {
     "name": "stdout",
     "output_type": "stream",
     "text": [
      "Shapiro-Wilk Stat: 0.9865769743919373  Shapiro-Wilk p-Value: 0.2331680953502655\n",
      "Anderson Darling: AndersonResult(statistic=0.52010388267143526, critical_values=array([ 0.56 ,  0.637,  0.765,  0.892,  1.061]), significance_level=array([ 15. ,  10. ,   5. ,   2.5,   1. ]))\n",
      "D'Agostino and Pearson: NormaltestResult(statistic=2.7038014333192359, pvalue=0.25874798634882118)\n",
      "0.258747986349\n"
     ]
    },
    {
     "data": {
      "image/png": "[encoded data removed]",
      "text/plain": [
       "<matplotlib.figure.Figure at 0x208a783a860>"
      ]
     },
     "metadata": {},
     "output_type": "display_data"
    }
   ],
   "source": [
    "#https://www.ncbi.nlm.nih.gov/pmc/articles/PMC3693611/\n",
    "\n",
    "x = observed_temperatures\n",
    "\n",
    "#Shapiro-Wilk Test:\n",
    "shapiro_test, shapiro_p = scipy.stats.shapiro(x)\n",
    "print(\"Shapiro-Wilk Stat:\",shapiro_test, \" Shapiro-Wilk p-Value:\", shapiro_p)\n",
    "\n",
    "#Anderson-Darling\n",
    "anderson_results = scipy.stats.anderson(x)\n",
    "print(\"Anderson Darling:\", anderson_results)\n",
    "\n",
    "\n",
    "#D’Agostino and Pearson\n",
    "dagostino_results = scipy.stats.mstats.normaltest(x)\n",
    "print(\"D'Agostino and Pearson:\", dagostino_results)\n",
    "\n",
    "\n",
    "k2, p = scipy.stats.normaltest(observed_temperatures)\n",
    "print(p)\n",
    "\n",
    "\n",
    "#Another method to determining normality is through Quantile-Quantile Plots.\n",
    "scipy.stats.probplot(observed_temperatures, dist=\"norm\", plot=pylab)\n",
    "pylab.show()\n",
    "\n"
   ]
  },
  {
   "cell_type": "markdown",
   "metadata": {},
   "source": [
    "#### From these The p value is much larger than the significance value of .05,  and therefore cannot prove that the  null hypothesis is false. Let's plot an ecdf just to support the Q-Q plot."
   ]
  },
  {
   "cell_type": "code",
   "execution_count": 126,
   "metadata": {},
   "outputs": [
    {
     "name": "stdout",
     "output_type": "stream",
     "text": [
      "Mean temperature:  98.2492307692 with standard deviation of +/- 0.730357778905\n"
     ]
    },
    {
     "data": {
      "image/png": "[encoded data removed]",
      "text/plain": [
       "<matplotlib.figure.Figure at 0x208a79ae240>"
      ]
     },
     "metadata": {},
     "output_type": "display_data"
    }
   ],
   "source": [
    "def ecdf(data):\n",
    "    #Compute ECDF\n",
    "    n = len(data)\n",
    "    x = np.sort(data)\n",
    "    y = np.arange(1, n+1) / n\n",
    "    return x, y\n",
    "\n",
    "# Compute empirical mean and standard deviation\n",
    "\n",
    "# Number of samples\n",
    "n = len(df['temperature']) \n",
    "\n",
    "# Sample mean\n",
    "mu = np.mean(df['temperature']) \n",
    "\n",
    "# Sample standard deviation\n",
    "std = np.std(df['temperature']) \n",
    "\n",
    "print('Mean temperature: ', mu, 'with standard deviation of +/-', std)\n",
    "\n",
    "#Random sampling of the data based off of the mean of the data.\n",
    "#\n",
    "normalized_sample = np.random.normal(mu, std, size=10000)\n",
    "x_temperature, y_temperature = ecdf(df['temperature'])\n",
    "normalized_x, normalized_y = ecdf(normalized_sample)\n",
    "\n",
    "# Plot the ECDFs\n",
    "fig = plt.figure(figsize=(8, 5))\n",
    "_ = plt.plot(x_normal, y_normal)\n",
    "_ = plt.plot(x_temp, y_temp, marker='.', linestyle='none')\n",
    "_ = plt.ylabel('ECDF')\n",
    "_ = plt.xlabel('Temperature')\n",
    "_ = plt.legend(('Normal Distribution', 'Sample data'))"
   ]
  },
  {
   "cell_type": "markdown",
   "metadata": {},
   "source": [
    "## 2. Is the sample size large? Are the observations independent?\n",
    "Remember that this is a condition for the CLT, and hence the statistical tests we are using, to apply."
   ]
  },
  {
   "cell_type": "markdown",
   "metadata": {},
   "source": [
    "#### According to the Central Limit Theorem (CLT), a sample size of 30 or more is large enough for the central limit theorem to take effect. The closer the population distribution is to a normal distribution, the fewer samples needed to demonstrate the theorem. "
   ]
  },
  {
   "cell_type": "markdown",
   "metadata": {},
   "source": [
    "## 3. Is the true population mean really 98.6 degrees F?\n",
    "Would you use a one-sample or two-sample test? Why?\n",
    "In this situation, is it appropriate to use the  tt  or  zz  statistic?\n",
    "Now try using the other test. How is the result be different? Why?"
   ]
  },
  {
   "cell_type": "markdown",
   "metadata": {},
   "source": [
    "#### A t-score is usually used when a sample size is smaller (n<30) and has an unknown population standard deviation. Z-scores are used when the sample sizes are larger and we know the standard deviation. In this case, both have their own cons, but in this case a t-score would be best in this instance.\n",
    "\n",
    "#### We would use a one-sample test as we are only comparing one value in this instance.\n",
    "\n",
    "#### Our null hypothesis follows Carl Wunderlich's proposition that 98.6 degrees Farenheit was the conventional avereage for human body temperatures."
   ]
  },
  {
   "cell_type": "code",
   "execution_count": 127,
   "metadata": {},
   "outputs": [
    {
     "name": "stdout",
     "output_type": "stream",
     "text": [
      "t-stat:  -5.47592520208\n",
      "p-value for t-stat: 0.00e+00\n"
     ]
    }
   ],
   "source": [
    "# Shift the data so the mean is equal to the the conventional mean\n",
    "\n",
    "#Carl Wunderlich's Mean\n",
    "CW_mu = 98.6\n",
    "\n",
    "#Shifted temperatures to match Carl Wunderlich's mean\n",
    "shifted_temp = df['temperature'] - mu + CW_mu\n",
    "\n",
    "\n",
    "# Define test statistic function\n",
    "def t_statistic(data, mu=98.6):\n",
    "    return (np.mean(data) - CW_mu) / (np.std(data) / np.sqrt(len(data)))\n",
    "\n",
    "\n",
    "# Compute test statistic for data\n",
    "t_observed = t_statistic(df['temperature'], CW_mu)\n",
    "\n",
    "\n",
    "# Define bootstrapping functions\n",
    "def bootstrap_replicate_1d(data, func):\n",
    "    #Draw one bootstrap replicate for a 1-d array of data\n",
    "    return func(np.random.choice(data, size=len(data)))\n",
    "\n",
    "def draw_bs_reps(data, func, size=1):\n",
    "    #Draw (size) number of bootstrap replicates.\n",
    "    bs_replicates = np.empty(size)\n",
    "    for i in range(size):\n",
    "        bs_replicates[i] = bootstrap_replicate_1d(data, func)\n",
    "    return bs_replicates\n",
    "\n",
    "\n",
    "# Simulate data acquisition under the null hypothesis by bootstrapping the shifted data\n",
    "bs_t_reps = draw_bs_reps(shifted_temp, t_statistic, size=10000)\n",
    "\n",
    "\n",
    "# Compute the p-value\n",
    "p_value = np.sum(bs_t_reps) >=(t_observed) / len(bs_t_reps)\n",
    "\n",
    "\n",
    "print('t-stat: ', t_observed)\n",
    "print('p-value for t-stat: {:.2e}'.format(p_value))"
   ]
  },
  {
   "cell_type": "markdown",
   "metadata": {},
   "source": [
    "#### The T-Stat -5.476 leads to the p-value = 0. This means that of the 10,000 trial conducted, there was not a single mean that came within the bounds of our observed sample mean. We must reject the null hypothesis and conclude that the true population mean is not Carl Wunderlich's 98.6 and that for 120 years, we have been led to believe the wrong average body temperature.\n"
   ]
  },
  {
   "cell_type": "markdown",
   "metadata": {},
   "source": [
    "#### The results are similar to the t-test as the z-test usually operates with a known sigma (standard deviation). In this case we had to calculate our own using np.std over the samples."
   ]
  },
  {
   "cell_type": "markdown",
   "metadata": {},
   "source": [
    "## 4. Draw a small sample of size 10 from the data and repeat both tests.\n",
    "Which one is the correct one to use?\n",
    "What do you notice? What does this tell you about the difference in application of the  tt  and  zz  statistic?"
   ]
  },
  {
   "cell_type": "code",
   "execution_count": 80,
   "metadata": {},
   "outputs": [
    {
     "name": "stdout",
     "output_type": "stream",
     "text": [
      "t-stat for 10 samples -1.83154851378\n",
      "p-value for t-stat: 0.00e+00 \n",
      "\n",
      "z-stat for 10 samples -1.60201310653\n",
      "p-value for z-stat: 0.00e+00\n"
     ]
    }
   ],
   "source": [
    "random_sample = observed_temperatures.sample(n=10)\n",
    "    \n",
    "shifted_sample = random_sample - np.mean(random_sample) + CW_mu\n",
    "\n",
    "t_observed = t_statistic(random_sample)\n",
    "bs_t_reps = draw_bs_reps(random_sample, t_statistic, size=10000)\n",
    "p_value = np.sum(bs_t_reps) >= ((t_observed)/len(bs_t_reps))\n",
    "print('t-stat for 10 samples', t_observed)\n",
    "print('p-value for t-stat: {:.2e}'.format(p_value), '\\n')\n",
    "\n",
    "z_observed = z_statistic(random_sample)\n",
    "bs_z_reps = draw_bs_reps(random_sample, z_statistic, size=10000)\n",
    "p_value = np.sum(bs_z_reps) >=(z_observed/len(bs_z_reps))\n",
    "print('z-stat for 10 samples', z_observed)\n",
    "print('p-value for z-stat: {:.2e}'.format(p_value))                              \n",
    "                            "
   ]
  },
  {
   "cell_type": "markdown",
   "metadata": {},
   "source": [
    "#### Since the sample size is larger and since we do not know the standard deviation, a t-stat test is best used for the sampling. The p values are varied between the two tests. Both of the "
   ]
  },
  {
   "cell_type": "markdown",
   "metadata": {},
   "source": [
    "## 5. At what temperature should we consider someone's temperature to be \"abnormal\"?\n",
    "Start by computing the margin of error and confidence interval."
   ]
  },
  {
   "cell_type": "code",
   "execution_count": 81,
   "metadata": {
    "scrolled": true
   },
   "outputs": [
    {
     "name": "stdout",
     "output_type": "stream",
     "text": [
      "The confidence interval (or acceptable temperature bounds for \"normal\" temperatures) fall between [ 96.7225  99.4775]\n",
      "The margin of error for the mean temperature is 0.125548657774\n",
      "The prediction interval is  96.8177558267 and  99.6807057117\n"
     ]
    }
   ],
   "source": [
    "mu = df['temperature'].mean()\n",
    "confidence_interval = np.percentile(df['temperature'], [2.5,97.5])\n",
    "print('The confidence interval (or acceptable temperature bounds for \"normal\" temperatures) fall between', confidence_interval)\n",
    "\n",
    "z_critical = scipy.stats.norm.ppf(q = 0.975)\n",
    "error_margin = z_critical * (np.std(df['temperature']/math.sqrt(len(df['temperature']))))\n",
    "print('The margin of error for the mean temperature is', error_margin)\n",
    "\n",
    "prediction_interval = z_critical * (np.std(df['temperature'])/math.sqrt(1))\n",
    "print('The prediction interval is ',mu - prediction_interval, 'and ',mu + prediction_interval )"
   ]
  },
  {
   "cell_type": "markdown",
   "metadata": {},
   "source": [
    "#### The confidence intervals fall between 96.7225 and 99.4775 with a margin of error of 0.12. the 95% prediction interval states that a person's body temperature would be abnormal if it feel outside of the 95% prediction interva of 96.8 to 99.7 degrees farenheit."
   ]
  },
  {
   "cell_type": "markdown",
   "metadata": {},
   "source": [
    "## 6. Is there a significant difference between males and females in normal temperature?\n",
    "What test did you use and why?\n",
    "Write a story with your conclusion in the context of the original problem."
   ]
  },
  {
   "cell_type": "code",
   "execution_count": 105,
   "metadata": {},
   "outputs": [],
   "source": [
    "male = df[df['gender']=='M']\n",
    "female = df[df['gender']=='F']"
   ]
  },
  {
   "cell_type": "code",
   "execution_count": 83,
   "metadata": {},
   "outputs": [
    {
     "name": "stdout",
     "output_type": "stream",
     "text": [
      "Count of Female Observations 65\n",
      "Count of Male Observations 65\n"
     ]
    }
   ],
   "source": [
    "print(\"Count of Female Observations\",len(df[df.gender=='F']))\n",
    "print(\"Count of Male Observations\",len(df[df.gender=='M']))\n"
   ]
  },
  {
   "cell_type": "markdown",
   "metadata": {},
   "source": [
    "#### Let's look at the male and female probability density function plots below to see how they are distributed."
   ]
  },
  {
   "cell_type": "code",
   "execution_count": 85,
   "metadata": {
    "scrolled": true
   },
   "outputs": [
    {
     "data": {
      "image/png": "[encoded data removed]",
      "text/plain": [
       "<matplotlib.figure.Figure at 0x208a7b97cf8>"
      ]
     },
     "metadata": {},
     "output_type": "display_data"
    }
   ],
   "source": [
    "female_temps = female['temperature'].sort_values()\n",
    "bin_val = np.arange(start= female_temps.min(), stop= female_temps.max(), step = .05)\n",
    "mu, std = np.mean(female_temps), np.std(female_temps)\n",
    "\n",
    "male_temps = male['temperature'].sort_values()\n",
    "bin_val = np.arange(start= male_temps.min(), stop= male_temps.max(), step = .05)\n",
    "mu, std = np.mean(male_temps), np.std(male_temps)\n",
    "\n",
    "#p will be the theoretical normal distribution calculated from the mean and standard deviation taken from the temperatures dataset.\n",
    "f = norm.pdf(female_temps, mu, std)\n",
    "m = norm.pdf(male_temps, mu, std)\n",
    "#plots\n",
    "_ = plt.figure(figsize=(20,10))\n",
    "_ = plt.subplot(1,2,1)\n",
    "_ = plt.hist(female_temps,bins = bin_val, normed=True, stacked=True)\n",
    "_ = plt.plot(female_temps, f, color = 'red')\n",
    "_ = plt.xticks(np.arange(95.75,101.25,0.25),rotation=90)\n",
    "_ = plt.xlabel('Female Temperature Distributions')\n",
    "_ = plt.xlabel('Female Body Temperature')\n",
    "\n",
    "\n",
    "_ = plt.subplot(1,2,2)\n",
    "_ = plt.hist(male_temps,bins = bin_val, normed=True, stacked=True)\n",
    "_ = plt.plot(male_temps, m, color = 'red')\n",
    "_ = plt.xticks(np.arbange(95.75,101.25,0.25),rotation=90)\n",
    "_ = plt.xlabel('Male Temperature Distributions')\n",
    "_ = plt.xlabel('Male Body Temperature')\n",
    "plt.show()"
   ]
  },
  {
   "cell_type": "markdown",
   "metadata": {},
   "source": [
    "#### These PDFs appear to look fairly different. Females tend to cluster closer to the mean temperature while also being higher on average, while male temperatures look more loosely distributed and lower than its female counterpart."
   ]
  },
  {
   "cell_type": "code",
   "execution_count": 96,
   "metadata": {},
   "outputs": [],
   "source": [
    "def ecdf(data):\n",
    "    # Number of data points: n\n",
    "    n = len(data)\n",
    "    # x-data for the ECDF: x\n",
    "    x = np.sort(data)\n",
    "    # y-data for the ECDF: y\n",
    "    y = np.arange(1, n+1)/n\n",
    "    return x, y\n",
    "\n",
    "female_x, female_y = ecdf(female_temps)\n",
    "male_x, male_y = ecdf(male_temps)"
   ]
  },
  {
   "cell_type": "code",
   "execution_count": 99,
   "metadata": {},
   "outputs": [
    {
     "name": "stdout",
     "output_type": "stream",
     "text": [
      "Average Male Temp: 98.1046153846  Average Female Temp:  98.3938461538\n"
     ]
    },
    {
     "data": {
      "image/png": "[encoded data removed]",
      "text/plain": [
       "<matplotlib.figure.Figure at 0x208a7ddddd8>"
      ]
     },
     "metadata": {},
     "output_type": "display_data"
    }
   ],
   "source": [
    "_ = plt.plot(female_x, female_y, marker='.', linestyle='none')\n",
    "_ = plt.plot(male_x, male_y, marker='.', linestyle='none')\n",
    "_ = plt.ylabel('ECDF')\n",
    "_ = plt.xlabel('Temperature')\n",
    "_ = plt.legend(('Females', 'Males'))\n",
    "print('Average Male Temp:', np.mean(male_temps), ' Average Female Temp: ', np.mean(female_temps))"
   ]
  },
  {
   "cell_type": "markdown",
   "metadata": {},
   "source": [
    "#### From the EDA visualization, there is a difference in the female and male temperatures with female temperatures skewing higher and males skewing lower. When we calculate average male vs female temparates, we get female temperates at an average of 98.394 and males had an average of 98.104.\n",
    "\n",
    "#### Next we will performa permutation test since they can simulate the hyppothesis that two variables have identify probability ."
   ]
  },
  {
   "cell_type": "code",
   "execution_count": 121,
   "metadata": {},
   "outputs": [
    {
     "name": "stdout",
     "output_type": "stream",
     "text": [
      "Observed Difference:  0.289230769231\n",
      "p-value:  0.0256\n"
     ]
    }
   ],
   "source": [
    "male = df[df['gender']=='M']\n",
    "female = df[df['gender']=='F']\n",
    "\n",
    "male_temp = np.array(male['temperature'])\n",
    "female_temp = np.array(female['temperature'])\n",
    "\n",
    "def diff_of_means(data_1, data_2):\n",
    "    return np.mean(data_1) - np.mean(data_2)\n",
    "\n",
    "diff_obs = diff_of_means(female['temperature'], male['temperature'])\n",
    "\n",
    "perm_replicates = np.empty(10000)\n",
    "for i in range(len(perm_replicates)):\n",
    "    both = np.concatenate((female_temp, male_temp))\n",
    "    both_perm = np.random.permutation(both)\n",
    "    females_perm = both_perm[:len(female_temp)]\n",
    "    males_perm = both_perm[len(female_temp):]\n",
    "    perm_replicates[i] = diff_of_means(females_perm, males_perm)\n",
    "    \n",
    "p_value = np.sum(abs(perm_replicates) >= abs(diff_obs)) / len(perm_replicates)\n",
    "\n",
    "print('Observed Difference: ', diff_obs)\n",
    "print('p-value: ', p_value)"
   ]
  },
  {
   "cell_type": "markdown",
   "metadata": {},
   "source": [
    "#### The p-value is less the the significance value of 0.05. THerefore, we can reject the null hypothesis and stipulate that there is a significant difference between the distribution of male and female temperatures.\n",
    "\n",
    "#### In conclusion, Car Wunderluch's assessment of the 98.6 degree temperature for the human body was statistically inaccurate. The analysis proves that the mean human body temperature is 98.2 +/- 0.126 (to a 95% confidence interval). We also found a significant difference between male and female average body temperatures which differed by .289 degrees on average with females having the warmer body temps."
   ]
  }
 ],
 "metadata": {
  "kernelspec": {
   "display_name": "Python 3",
   "language": "python",
   "name": "python3"
  },
  "language_info": {
   "codemirror_mode": {
    "name": "ipython",
    "version": 3
   },
   "file_extension": ".py",
   "mimetype": "text/x-python",
   "name": "python",
   "nbconvert_exporter": "python",
   "pygments_lexer": "ipython3",
   "version": "3.6.2"
  }
 },
 "nbformat": 4,
 "nbformat_minor": 1
}
